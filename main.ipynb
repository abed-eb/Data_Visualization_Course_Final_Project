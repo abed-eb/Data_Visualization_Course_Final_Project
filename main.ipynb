{
 "cells": [
  {
   "cell_type": "code",
   "execution_count": 57,
   "id": "initial_id",
   "metadata": {
    "collapsed": true,
    "ExecuteTime": {
     "end_time": "2024-03-23T18:19:22.765071800Z",
     "start_time": "2024-03-23T18:19:22.759551200Z"
    }
   },
   "outputs": [],
   "source": [
    "import numpy as np\n",
    "import pandas as pd\n",
    "import seaborn as sns\n",
    "import matplotlib.pyplot as plt\n",
    "import ipywidgets as widgets\n",
    "from ipywidgets import interact, SelectMultiple"
   ]
  },
  {
   "cell_type": "code",
   "outputs": [
    {
     "data": {
      "text/plain": "      Patient Id  Age Gender  Comorbidities  Emergency Dept Time  \\\n0              0   67      F           True  2022-06-15 19:27:00   \n1              1   75      F          False  2023-01-04 23:20:00   \n2              2   50      M          False  2022-12-28 18:33:00   \n3              3   63      M          False  2023-05-28 11:08:00   \n4              4   64      M          False  2022-01-21 19:48:00   \n...          ...  ...    ...            ...                  ...   \n5142        5142   63      F           True  2022-05-28 16:56:00   \n5143        5143   75      F           True  2023-10-22 21:36:00   \n5144        5144   87      M           True  2023-12-11 00:52:00   \n5145        5145   69      F          False  2022-03-12 00:01:00   \n5146        5146   67      M           True  2023-11-24 06:47:00   \n\n           Admission Time       Discharge Time         CT Scan Time TPA Time  \\\n0     2022-06-16 03:57:00  2022-07-04 07:07:00  2022-06-15 19:45:00      NaN   \n1     2023-01-05 02:13:00  2023-01-10 10:59:00  2023-01-04 23:33:00      NaN   \n2     2022-12-29 03:20:00  2023-01-06 08:01:00  2022-12-28 18:47:00      NaN   \n3     2023-05-28 13:35:00  2023-06-26 06:38:00  2023-05-28 11:21:00      NaN   \n4     2022-01-22 05:16:00  2022-02-01 20:01:00  2022-01-21 20:01:00      NaN   \n...                   ...                  ...                  ...      ...   \n5142  2022-05-28 22:01:00  2022-06-10 05:52:00  2022-05-28 17:08:00      NaN   \n5143  2023-10-23 03:07:00  2023-10-31 19:25:00  2023-10-22 21:58:00      NaN   \n5144  2023-12-11 04:36:00  2023-12-18 19:59:00  2023-12-11 01:04:00      NaN   \n5145  2022-03-12 07:49:00  2022-03-20 09:46:00  2022-03-12 00:14:00      NaN   \n5146  2023-11-24 17:18:00  2023-12-13 10:56:00  2023-11-24 06:59:00      NaN   \n\n         ICU Arrival Time    ICU Checkout Time Neurology Ward Arrival Time  \\\n0                     NaN                  NaN         2022-06-16 05:01:00   \n1     2023-01-05 02:14:00  2023-01-06 09:44:00         2023-01-06 09:44:00   \n2     2023-01-01 08:51:00  2023-01-02 22:15:00         2023-01-02 22:15:00   \n3                     NaN                  NaN         2023-06-24 18:28:00   \n4                     NaN                  NaN         2022-01-22 06:43:00   \n...                   ...                  ...                         ...   \n5142  2022-05-28 22:29:00  2022-05-30 01:02:00         2022-05-30 01:02:00   \n5143                  NaN                  NaN         2023-10-23 06:14:00   \n5144  2023-12-11 04:39:00  2023-12-13 18:35:00         2023-12-13 18:35:00   \n5145  2022-03-12 09:09:00  2022-03-13 18:34:00         2022-03-13 18:34:00   \n5146  2023-11-24 19:01:00  2023-12-12 10:16:00         2023-12-12 10:16:00   \n\n     Occupational Therapist Visit Speech Pathologist Visit  \\\n0             2022-06-18 23:28:00      2022-07-04 06:26:00   \n1                             NaN      2023-01-07 01:21:00   \n2                             NaN                      NaN   \n3             2023-05-29 05:56:00      2023-06-07 13:40:00   \n4             2022-02-01 19:30:00                      NaN   \n...                           ...                      ...   \n5142          2022-05-29 00:24:00      2022-05-29 04:57:00   \n5143          2023-10-24 23:38:00      2023-10-23 06:27:00   \n5144          2023-12-11 05:25:00                      NaN   \n5145                          NaN      2022-03-12 09:53:00   \n5146                          NaN                      NaN   \n\n     Physiotherapist Visit      Dietitian Visit  Social Worker Visit  \\\n0      2022-06-29 06:35:00                  NaN                  NaN   \n1      2023-01-05 03:13:00                  NaN  2023-01-06 00:39:00   \n2                      NaN  2023-01-06 07:42:00  2023-01-01 04:57:00   \n3      2023-06-01 08:31:00  2023-06-07 23:12:00  2023-05-30 11:21:00   \n4                      NaN                  NaN  2022-01-22 06:57:00   \n...                    ...                  ...                  ...   \n5142                   NaN  2022-05-30 22:36:00  2022-06-03 22:25:00   \n5143   2023-10-26 18:11:00  2023-10-31 19:10:00  2023-10-26 00:18:00   \n5144   2023-12-11 03:54:00                  NaN                  NaN   \n5145   2022-03-13 02:55:00                  NaN  2022-03-13 07:40:00   \n5146   2023-11-25 19:18:00  2023-12-03 12:28:00  2023-11-27 13:26:00   \n\n       Cardiologist Visit    Neurologist Visit  \n0                     NaN  2022-06-20 06:47:00  \n1                     NaN  2023-01-06 06:17:00  \n2                     NaN  2022-12-29 22:37:00  \n3                     NaN  2023-05-29 11:59:00  \n4                     NaN  2022-01-26 21:26:00  \n...                   ...                  ...  \n5142  2022-06-10 05:20:00  2022-06-04 15:42:00  \n5143                  NaN  2023-10-27 16:14:00  \n5144                  NaN  2023-12-12 03:03:00  \n5145                  NaN  2022-03-12 15:19:00  \n5146                  NaN  2023-11-24 18:07:00  \n\n[5147 rows x 19 columns]",
      "text/html": "<div>\n<style scoped>\n    .dataframe tbody tr th:only-of-type {\n        vertical-align: middle;\n    }\n\n    .dataframe tbody tr th {\n        vertical-align: top;\n    }\n\n    .dataframe thead th {\n        text-align: right;\n    }\n</style>\n<table border=\"1\" class=\"dataframe\">\n  <thead>\n    <tr style=\"text-align: right;\">\n      <th></th>\n      <th>Patient Id</th>\n      <th>Age</th>\n      <th>Gender</th>\n      <th>Comorbidities</th>\n      <th>Emergency Dept Time</th>\n      <th>Admission Time</th>\n      <th>Discharge Time</th>\n      <th>CT Scan Time</th>\n      <th>TPA Time</th>\n      <th>ICU Arrival Time</th>\n      <th>ICU Checkout Time</th>\n      <th>Neurology Ward Arrival Time</th>\n      <th>Occupational Therapist Visit</th>\n      <th>Speech Pathologist Visit</th>\n      <th>Physiotherapist Visit</th>\n      <th>Dietitian Visit</th>\n      <th>Social Worker Visit</th>\n      <th>Cardiologist Visit</th>\n      <th>Neurologist Visit</th>\n    </tr>\n  </thead>\n  <tbody>\n    <tr>\n      <th>0</th>\n      <td>0</td>\n      <td>67</td>\n      <td>F</td>\n      <td>True</td>\n      <td>2022-06-15 19:27:00</td>\n      <td>2022-06-16 03:57:00</td>\n      <td>2022-07-04 07:07:00</td>\n      <td>2022-06-15 19:45:00</td>\n      <td>NaN</td>\n      <td>NaN</td>\n      <td>NaN</td>\n      <td>2022-06-16 05:01:00</td>\n      <td>2022-06-18 23:28:00</td>\n      <td>2022-07-04 06:26:00</td>\n      <td>2022-06-29 06:35:00</td>\n      <td>NaN</td>\n      <td>NaN</td>\n      <td>NaN</td>\n      <td>2022-06-20 06:47:00</td>\n    </tr>\n    <tr>\n      <th>1</th>\n      <td>1</td>\n      <td>75</td>\n      <td>F</td>\n      <td>False</td>\n      <td>2023-01-04 23:20:00</td>\n      <td>2023-01-05 02:13:00</td>\n      <td>2023-01-10 10:59:00</td>\n      <td>2023-01-04 23:33:00</td>\n      <td>NaN</td>\n      <td>2023-01-05 02:14:00</td>\n      <td>2023-01-06 09:44:00</td>\n      <td>2023-01-06 09:44:00</td>\n      <td>NaN</td>\n      <td>2023-01-07 01:21:00</td>\n      <td>2023-01-05 03:13:00</td>\n      <td>NaN</td>\n      <td>2023-01-06 00:39:00</td>\n      <td>NaN</td>\n      <td>2023-01-06 06:17:00</td>\n    </tr>\n    <tr>\n      <th>2</th>\n      <td>2</td>\n      <td>50</td>\n      <td>M</td>\n      <td>False</td>\n      <td>2022-12-28 18:33:00</td>\n      <td>2022-12-29 03:20:00</td>\n      <td>2023-01-06 08:01:00</td>\n      <td>2022-12-28 18:47:00</td>\n      <td>NaN</td>\n      <td>2023-01-01 08:51:00</td>\n      <td>2023-01-02 22:15:00</td>\n      <td>2023-01-02 22:15:00</td>\n      <td>NaN</td>\n      <td>NaN</td>\n      <td>NaN</td>\n      <td>2023-01-06 07:42:00</td>\n      <td>2023-01-01 04:57:00</td>\n      <td>NaN</td>\n      <td>2022-12-29 22:37:00</td>\n    </tr>\n    <tr>\n      <th>3</th>\n      <td>3</td>\n      <td>63</td>\n      <td>M</td>\n      <td>False</td>\n      <td>2023-05-28 11:08:00</td>\n      <td>2023-05-28 13:35:00</td>\n      <td>2023-06-26 06:38:00</td>\n      <td>2023-05-28 11:21:00</td>\n      <td>NaN</td>\n      <td>NaN</td>\n      <td>NaN</td>\n      <td>2023-06-24 18:28:00</td>\n      <td>2023-05-29 05:56:00</td>\n      <td>2023-06-07 13:40:00</td>\n      <td>2023-06-01 08:31:00</td>\n      <td>2023-06-07 23:12:00</td>\n      <td>2023-05-30 11:21:00</td>\n      <td>NaN</td>\n      <td>2023-05-29 11:59:00</td>\n    </tr>\n    <tr>\n      <th>4</th>\n      <td>4</td>\n      <td>64</td>\n      <td>M</td>\n      <td>False</td>\n      <td>2022-01-21 19:48:00</td>\n      <td>2022-01-22 05:16:00</td>\n      <td>2022-02-01 20:01:00</td>\n      <td>2022-01-21 20:01:00</td>\n      <td>NaN</td>\n      <td>NaN</td>\n      <td>NaN</td>\n      <td>2022-01-22 06:43:00</td>\n      <td>2022-02-01 19:30:00</td>\n      <td>NaN</td>\n      <td>NaN</td>\n      <td>NaN</td>\n      <td>2022-01-22 06:57:00</td>\n      <td>NaN</td>\n      <td>2022-01-26 21:26:00</td>\n    </tr>\n    <tr>\n      <th>...</th>\n      <td>...</td>\n      <td>...</td>\n      <td>...</td>\n      <td>...</td>\n      <td>...</td>\n      <td>...</td>\n      <td>...</td>\n      <td>...</td>\n      <td>...</td>\n      <td>...</td>\n      <td>...</td>\n      <td>...</td>\n      <td>...</td>\n      <td>...</td>\n      <td>...</td>\n      <td>...</td>\n      <td>...</td>\n      <td>...</td>\n      <td>...</td>\n    </tr>\n    <tr>\n      <th>5142</th>\n      <td>5142</td>\n      <td>63</td>\n      <td>F</td>\n      <td>True</td>\n      <td>2022-05-28 16:56:00</td>\n      <td>2022-05-28 22:01:00</td>\n      <td>2022-06-10 05:52:00</td>\n      <td>2022-05-28 17:08:00</td>\n      <td>NaN</td>\n      <td>2022-05-28 22:29:00</td>\n      <td>2022-05-30 01:02:00</td>\n      <td>2022-05-30 01:02:00</td>\n      <td>2022-05-29 00:24:00</td>\n      <td>2022-05-29 04:57:00</td>\n      <td>NaN</td>\n      <td>2022-05-30 22:36:00</td>\n      <td>2022-06-03 22:25:00</td>\n      <td>2022-06-10 05:20:00</td>\n      <td>2022-06-04 15:42:00</td>\n    </tr>\n    <tr>\n      <th>5143</th>\n      <td>5143</td>\n      <td>75</td>\n      <td>F</td>\n      <td>True</td>\n      <td>2023-10-22 21:36:00</td>\n      <td>2023-10-23 03:07:00</td>\n      <td>2023-10-31 19:25:00</td>\n      <td>2023-10-22 21:58:00</td>\n      <td>NaN</td>\n      <td>NaN</td>\n      <td>NaN</td>\n      <td>2023-10-23 06:14:00</td>\n      <td>2023-10-24 23:38:00</td>\n      <td>2023-10-23 06:27:00</td>\n      <td>2023-10-26 18:11:00</td>\n      <td>2023-10-31 19:10:00</td>\n      <td>2023-10-26 00:18:00</td>\n      <td>NaN</td>\n      <td>2023-10-27 16:14:00</td>\n    </tr>\n    <tr>\n      <th>5144</th>\n      <td>5144</td>\n      <td>87</td>\n      <td>M</td>\n      <td>True</td>\n      <td>2023-12-11 00:52:00</td>\n      <td>2023-12-11 04:36:00</td>\n      <td>2023-12-18 19:59:00</td>\n      <td>2023-12-11 01:04:00</td>\n      <td>NaN</td>\n      <td>2023-12-11 04:39:00</td>\n      <td>2023-12-13 18:35:00</td>\n      <td>2023-12-13 18:35:00</td>\n      <td>2023-12-11 05:25:00</td>\n      <td>NaN</td>\n      <td>2023-12-11 03:54:00</td>\n      <td>NaN</td>\n      <td>NaN</td>\n      <td>NaN</td>\n      <td>2023-12-12 03:03:00</td>\n    </tr>\n    <tr>\n      <th>5145</th>\n      <td>5145</td>\n      <td>69</td>\n      <td>F</td>\n      <td>False</td>\n      <td>2022-03-12 00:01:00</td>\n      <td>2022-03-12 07:49:00</td>\n      <td>2022-03-20 09:46:00</td>\n      <td>2022-03-12 00:14:00</td>\n      <td>NaN</td>\n      <td>2022-03-12 09:09:00</td>\n      <td>2022-03-13 18:34:00</td>\n      <td>2022-03-13 18:34:00</td>\n      <td>NaN</td>\n      <td>2022-03-12 09:53:00</td>\n      <td>2022-03-13 02:55:00</td>\n      <td>NaN</td>\n      <td>2022-03-13 07:40:00</td>\n      <td>NaN</td>\n      <td>2022-03-12 15:19:00</td>\n    </tr>\n    <tr>\n      <th>5146</th>\n      <td>5146</td>\n      <td>67</td>\n      <td>M</td>\n      <td>True</td>\n      <td>2023-11-24 06:47:00</td>\n      <td>2023-11-24 17:18:00</td>\n      <td>2023-12-13 10:56:00</td>\n      <td>2023-11-24 06:59:00</td>\n      <td>NaN</td>\n      <td>2023-11-24 19:01:00</td>\n      <td>2023-12-12 10:16:00</td>\n      <td>2023-12-12 10:16:00</td>\n      <td>NaN</td>\n      <td>NaN</td>\n      <td>2023-11-25 19:18:00</td>\n      <td>2023-12-03 12:28:00</td>\n      <td>2023-11-27 13:26:00</td>\n      <td>NaN</td>\n      <td>2023-11-24 18:07:00</td>\n    </tr>\n  </tbody>\n</table>\n<p>5147 rows × 19 columns</p>\n</div>"
     },
     "execution_count": 58,
     "metadata": {},
     "output_type": "execute_result"
    }
   ],
   "source": [
    "main_df = pd.read_csv(\"stroke.csv\")\n",
    "main_df"
   ],
   "metadata": {
    "collapsed": false,
    "ExecuteTime": {
     "end_time": "2024-03-23T18:19:22.807552400Z",
     "start_time": "2024-03-23T18:19:22.764061900Z"
    }
   },
   "id": "198000bbc079e877",
   "execution_count": 58
  },
  {
   "cell_type": "code",
   "outputs": [
    {
     "data": {
      "text/plain": "interactive(children=(Dropdown(description='Gender', options=('All', 'Men', 'Women'), value='All'), Output()),…",
      "application/vnd.jupyter.widget-view+json": {
       "version_major": 2,
       "version_minor": 0,
       "model_id": "c6041c6d8150425d93e61af42d1b0c6e"
      }
     },
     "metadata": {},
     "output_type": "display_data"
    }
   ],
   "source": [
    "#plot 1\n",
    "@interact(Gender=(['All', 'Men', 'Women']))\n",
    "def f1(Gender): \n",
    "    df1 = main_df.copy()\n",
    "    fig, ax = plt.subplots()\n",
    "    if (Gender == 'All'):\n",
    "        df1['ICU Arrival Time'] = pd.to_datetime(df1['ICU Arrival Time'])\n",
    "        df1['ICU Checkout Time'] = pd.to_datetime(df1['ICU Checkout Time'])\n",
    "        df1['age_category'] = pd.cut(df1['Age'], bins=range(0, 101, 10), right=False)\n",
    "        # Calculate ICU time in hours\n",
    "        df1['Avg_ICU_Time'] = (df1['ICU Checkout Time'] - df1['ICU Arrival Time']).dt.total_seconds() / 3600\n",
    "        # Fill NaN values with 0\n",
    "        df1['Avg_ICU_Time'] = df1['Avg_ICU_Time'].fillna(0)\n",
    "        # Calculate average ICU time for each age decade category\n",
    "        average_icu_time = df1.groupby('age_category', observed=False)['Avg_ICU_Time'].mean()\n",
    "        age_categories = [f\"{int(cat.left)} - {int(cat.right) - 1}\" for cat in average_icu_time.index]\n",
    "        ax.bar(x=age_categories, height=average_icu_time.values)\n",
    "        # plt.xlabel('Age')\n",
    "        # plt.ylabel('Average Time in ICU (hours)')\n",
    "        # plt.title('Average Time in ICU by Age Decade')\n",
    "        # plt.xticks(rotation=45)\n",
    "        # plt.grid(False)\n",
    "        # plt.show()\n",
    "    elif (Gender == 'Men'):\n",
    "        print(\"hi\")\n",
    "    elif (Gender == 'Women'):\n",
    "        print(\"Women\")\n",
    "\n"
   ],
   "metadata": {
    "collapsed": false,
    "ExecuteTime": {
     "end_time": "2024-03-23T18:19:22.937704200Z",
     "start_time": "2024-03-23T18:19:22.808550600Z"
    }
   },
   "id": "e41bcf383e7bf2b7",
   "execution_count": 59
  }
 ],
 "metadata": {
  "kernelspec": {
   "display_name": "Python 3",
   "language": "python",
   "name": "python3"
  },
  "language_info": {
   "codemirror_mode": {
    "name": "ipython",
    "version": 2
   },
   "file_extension": ".py",
   "mimetype": "text/x-python",
   "name": "python",
   "nbconvert_exporter": "python",
   "pygments_lexer": "ipython2",
   "version": "2.7.6"
  }
 },
 "nbformat": 4,
 "nbformat_minor": 5
}
